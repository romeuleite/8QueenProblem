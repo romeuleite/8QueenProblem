{
  "nbformat": 4,
  "nbformat_minor": 0,
  "metadata": {
    "colab": {
      "provenance": []
    },
    "kernelspec": {
      "name": "python3",
      "display_name": "Python 3"
    },
    "language_info": {
      "name": "python"
    }
  },
  "cells": [
    {
      "cell_type": "markdown",
      "source": [
        "Nome: Romeu Leite de Araujo Filho\n",
        "RA: 769713"
      ],
      "metadata": {
        "id": "OalK9aEjAWPH"
      }
    },
    {
      "cell_type": "code",
      "execution_count": 199,
      "metadata": {
        "id": "LNynn24uyD1V"
      },
      "outputs": [],
      "source": [
        "import numpy as np\n",
        "import random"
      ]
    },
    {
      "cell_type": "code",
      "source": [
        "'''\n",
        "O resultado é expresso como um vetor em que cada posição representa a coluna\n",
        "do tabuleiro e o valor de cada i-ésima posição representa a linha do tabuleiro\n",
        "'''\n",
        "\n",
        "otimo = [5, 2, 4, 7, 0, 3, 1, 6]"
      ],
      "metadata": {
        "id": "Hza8lRV3yKxv"
      },
      "execution_count": 200,
      "outputs": []
    },
    {
      "cell_type": "markdown",
      "source": [
        "![imagem_2023-02-04_171853709.png](data:image/png;base64,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)"
      ],
      "metadata": {
        "id": "4USGtl9vCe2Q"
      }
    },
    {
      "cell_type": "code",
      "source": [
        "num_individuos = 1000\n",
        "populacao_inicial = np.zeros((num_individuos,8), dtype=int)\n",
        "\n",
        "for i in range(num_individuos):\n",
        "  for j in range(8):\n",
        "    populacao_inicial[i][j] = random.randint(0,7)\n",
        "\n",
        "#Exemplo de como os indivíduos são gerados\n",
        "print(populacao_inicial[:5])\n"
      ],
      "metadata": {
        "colab": {
          "base_uri": "https://localhost:8080/"
        },
        "id": "DF_plZQjI1Q_",
        "outputId": "b477eb20-21a4-409a-e3d6-ca9c087652b9"
      },
      "execution_count": 201,
      "outputs": [
        {
          "output_type": "stream",
          "name": "stdout",
          "text": [
            "[[3 6 6 3 5 4 6 6]\n",
            " [2 0 2 6 4 6 4 5]\n",
            " [5 1 3 0 7 6 1 2]\n",
            " [4 3 0 3 5 3 7 2]\n",
            " [7 0 2 0 3 5 1 2]]\n"
          ]
        }
      ]
    },
    {
      "cell_type": "code",
      "source": [
        "def fitness(ind):\n",
        "  \n",
        "  atk = 0 #Número de pares de rainhas que se atacam\n",
        "\n",
        "  #Rainhas que se atacam em linhas\n",
        "  atk += len(ind) - len(set(ind))\n",
        "  \n",
        "  #Rainhas que se atacam na diagonal\n",
        "  for i in range(len(ind)):\n",
        "    for j in range(len(ind)):\n",
        "      if i != j:\n",
        "        if abs(i-j) == abs(ind[i] - ind[j]):\n",
        "          atk += 1\n",
        "\n",
        "  #28 pares de rainha que não se atacam \n",
        "  #8 * 7 / 2 = 28\n",
        "  return 28 - atk\n",
        "\n",
        "\n",
        "def retorna_fitness(populacao):\n",
        "  \n",
        "  fit = []\n",
        "  \n",
        "  for i in range(num_individuos):\n",
        "    f = fitness(populacao[i])\n",
        "    fit.append(f)\n",
        "\n",
        "  return fit"
      ],
      "metadata": {
        "id": "fbP7cO-uJui3"
      },
      "execution_count": 202,
      "outputs": []
    },
    {
      "cell_type": "code",
      "source": [
        "def selecao_torneio(fitnesses):\n",
        "  \n",
        "  ind1 = -1\n",
        "  ind2 = -1\n",
        "\n",
        "  while ind1 == ind2:\n",
        "    # Torneio 1\n",
        "    sorteados = random.sample(range(0, num_individuos), 2)\n",
        "    if fitnesses[sorteados[0]] > fitnesses[sorteados[1]]:\n",
        "      ind1 = sorteados[0]\n",
        "    else:\n",
        "      ind1 = sorteados[1]\n",
        "\n",
        "    # Torneio 2\n",
        "    sorteados = random.sample(range(0, num_individuos), 2)\n",
        "    if fitnesses[sorteados[0]] > fitnesses[sorteados[1]]:\n",
        "      ind2 = sorteados[0]\n",
        "    else:\n",
        "      ind2 = sorteados[1]  \n",
        "        \n",
        "  return ind1,ind2    "
      ],
      "metadata": {
        "id": "ox07YNGLJwr4"
      },
      "execution_count": 203,
      "outputs": []
    },
    {
      "cell_type": "code",
      "source": [
        "#Recombina as características dos pais passando para os filhos\n",
        "def cruzamento(ids,populacao):\n",
        "  \n",
        "  ponto = random.randint(1, 7)\n",
        "\n",
        "  pai1 = populacao[ids[0]]\n",
        "  pai2 = populacao[ids[1]]\n",
        "\n",
        "  filho1 = np.concatenate([pai1[:ponto],pai2[ponto:]])\n",
        "  filho2 = np.concatenate([pai2[:ponto],pai1[ponto:]])\n",
        "\n",
        "  return filho1,filho2"
      ],
      "metadata": {
        "id": "5FalB73KJyHg"
      },
      "execution_count": 204,
      "outputs": []
    },
    {
      "cell_type": "code",
      "source": [
        "#Propaga os dois melhores indivíduos para a próxima geração\n",
        "def elitismo(fitnesses):\n",
        "\n",
        "  id1 = fitnesses.index(max(fitnesses))\n",
        "\n",
        "  fitnesses.pop(id1)\n",
        "  id2 = fitnesses.index(max(fitnesses))\n",
        "\n",
        "  return id1,id2"
      ],
      "metadata": {
        "id": "nzr7OroPJz0Y"
      },
      "execution_count": 205,
      "outputs": []
    },
    {
      "cell_type": "code",
      "source": [
        "#Garante a diversidade genética alterando a estrutura do indivíduo\n",
        "def mutacao(filhos, taxa):\n",
        "\n",
        "  for i in range(len(filhos)):\n",
        "    if random.random() < taxa:\n",
        "      pos = random.randint(0, 7)\n",
        "      filhos[i][pos] = random.randint(0, 7)\n",
        "\n",
        "  return filhos"
      ],
      "metadata": {
        "id": "bc3dUj5DJ06p"
      },
      "execution_count": 206,
      "outputs": []
    },
    {
      "cell_type": "code",
      "source": [
        "# Número de gerações\n",
        "num_geracoes = 500\n",
        "\n",
        "# Fitness e peso do indivíduo ótimo\n",
        "fitness_otimo = fitness(otimo)\n",
        "\n",
        "for it in range(num_geracoes):\n",
        "\n",
        "  # Nova populacao vazia\n",
        "  nova_populacao = np.zeros((num_individuos,8), dtype=int)\n",
        "\n",
        "  # Calcula o fitness da população\n",
        "  fit = retorna_fitness(populacao_inicial)\n",
        "  #print(fit)\n",
        "\n",
        "\n",
        "  # Imprime o melhor individuo comparado com o ótimo\n",
        "  id_melhor = fit.index(max(fit))\n",
        "  print(\"M:\",'  '.join(map(str,populacao_inicial[id_melhor])),fit[id_melhor])\n",
        "  print(\"O:\",'  '.join(map(str,otimo)),fitness_otimo)\n",
        "  print()\n",
        "\n",
        "  #Condição de parada se achar a solução ótima\n",
        "  if fit[id_melhor] == 28:\n",
        "    print(\"Gerações:\" + str(it + 1) + '\\n')\n",
        "\n",
        "    #Printa o tabuleiro com a solução encontrada\n",
        "    print('  a   b   c   d   e   f   g   h' + '\\n' + '-' * 33)\n",
        "\n",
        "    for i in range(7, -1, -1):\n",
        "      line = '|'\n",
        "      for j in range(8):\n",
        "        if populacao_inicial[id_melhor][j] == i:\n",
        "          square = ' R |'\n",
        "        else:\n",
        "          square = '   |'\n",
        "        line += ''.join(square)\n",
        "      print(line + str(i+1))\n",
        "      print('-' * 33)\n",
        "    break\n",
        "\n",
        "  # Elitismo\n",
        "  elite = elitismo(fit.copy()) # Copiando por causa da referencia do vetor\n",
        "  nova_populacao[0] = populacao_inicial[elite[0]]\n",
        "  nova_populacao[1] = populacao_inicial[elite[1]]\n",
        "\n",
        "  # Gera os filhos restantes para completar a população\n",
        "  num_filhos = 2\n",
        "  while num_filhos < num_individuos:\n",
        "\n",
        "    # Seleção por torneio\n",
        "    ind_vencedores = selecao_torneio(fit)\n",
        "    \n",
        "    # Cruzamento\n",
        "    filhos = cruzamento(ind_vencedores,populacao_inicial)\n",
        "\n",
        "    # Mutacao (50% de chance de mutação em cada indivíduo)\n",
        "    filhos = mutacao(filhos,0.5)\n",
        "\n",
        "    # Coloca os filhos na nova população\n",
        "    nova_populacao[num_filhos] = filhos[0]\n",
        "    nova_populacao[num_filhos+1] = filhos[1]\n",
        "\n",
        "    # Aumenta o número de filhod\n",
        "    num_filhos = num_filhos + 2\n",
        "\n",
        "  # Substitui a populacao antiga pela atual\n",
        "  populacao_inicial = nova_populacao.copy()"
      ],
      "metadata": {
        "colab": {
          "base_uri": "https://localhost:8080/"
        },
        "id": "78Y2vTBWJ4Fx",
        "outputId": "0f6acc76-8a02-4090-be79-8418ff5972e0"
      },
      "execution_count": 207,
      "outputs": [
        {
          "output_type": "stream",
          "name": "stdout",
          "text": [
            "M: 0  3  0  4  1  1  5  1 25\n",
            "O: 5  2  4  7  0  3  1  6 28\n",
            "\n",
            "M: 4  6  1  3  7  0  7  1 26\n",
            "O: 5  2  4  7  0  3  1  6 28\n",
            "\n",
            "M: 4  6  1  3  7  0  7  1 26\n",
            "O: 5  2  4  7  0  3  1  6 28\n",
            "\n",
            "M: 4  6  1  3  7  0  7  1 26\n",
            "O: 5  2  4  7  0  3  1  6 28\n",
            "\n",
            "M: 4  6  1  3  7  0  7  5 27\n",
            "O: 5  2  4  7  0  3  1  6 28\n",
            "\n",
            "M: 4  6  1  3  7  0  7  5 27\n",
            "O: 5  2  4  7  0  3  1  6 28\n",
            "\n",
            "M: 4  6  1  3  7  0  7  5 27\n",
            "O: 5  2  4  7  0  3  1  6 28\n",
            "\n",
            "M: 4  6  1  3  7  0  2  5 28\n",
            "O: 5  2  4  7  0  3  1  6 28\n",
            "\n",
            "Gerações:8\n",
            "\n",
            "  a   b   c   d   e   f   g   h\n",
            "---------------------------------\n",
            "|   |   |   |   | R |   |   |   |8\n",
            "---------------------------------\n",
            "|   | R |   |   |   |   |   |   |7\n",
            "---------------------------------\n",
            "|   |   |   |   |   |   |   | R |6\n",
            "---------------------------------\n",
            "| R |   |   |   |   |   |   |   |5\n",
            "---------------------------------\n",
            "|   |   |   | R |   |   |   |   |4\n",
            "---------------------------------\n",
            "|   |   |   |   |   |   | R |   |3\n",
            "---------------------------------\n",
            "|   |   | R |   |   |   |   |   |2\n",
            "---------------------------------\n",
            "|   |   |   |   |   | R |   |   |1\n",
            "---------------------------------\n"
          ]
        }
      ]
    }
  ]
}